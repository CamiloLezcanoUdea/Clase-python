{
  "nbformat": 4,
  "nbformat_minor": 0,
  "metadata": {
    "colab": {
      "provenance": [],
      "authorship_tag": "ABX9TyNmVd6BFW9Rgt3M3EC7oXc6",
      "include_colab_link": true
    },
    "kernelspec": {
      "name": "python3",
      "display_name": "Python 3"
    },
    "language_info": {
      "name": "python"
    }
  },
  "cells": [
    {
      "cell_type": "markdown",
      "metadata": {
        "id": "view-in-github",
        "colab_type": "text"
      },
      "source": [
        "<a href=\"https://colab.research.google.com/github/CamiloLezcanoUdea/Clase-python/blob/master/numpy_matrices.ipynb\" target=\"_parent\"><img src=\"https://colab.research.google.com/assets/colab-badge.svg\" alt=\"Open In Colab\"/></a>"
      ]
    },
    {
      "cell_type": "code",
      "execution_count": 41,
      "metadata": {
        "colab": {
          "base_uri": "https://localhost:8080/"
        },
        "id": "v0SMF8qGrXIn",
        "outputId": "bd8902d1-eb51-40c8-8b80-dbea277ef526"
      },
      "outputs": [
        {
          "output_type": "stream",
          "name": "stdout",
          "text": [
            "1\n",
            "l\n",
            "Suma [12 15 15 18 20 22 24 26 28 30]\n",
            "Resta [-10  -9 -11 -10 -10 -10 -10 -10 -10 -10]\n",
            "Multiplicacion [ 11  36  26  56  75  96 119 144 171 200]\n",
            "Division [0.09090909 0.25       0.15384615 0.28571429 0.33333333 0.375\n",
            " 0.41176471 0.44444444 0.47368421 0.5       ]\n",
            "Media 5.5 15.5\n",
            "Mediana 5.5 15.5\n",
            "Desviacion estandar 2.8722813232690143 2.8722813232690143\n",
            "Moda 9\n",
            "Moda con numpy 9\n",
            "Matriz: [[1 2 3]\n",
            " [4 5 6]\n",
            " [7 8 9]]\n",
            "Transpuesta: [[1 4 7]\n",
            " [2 5 8]\n",
            " [3 6 9]]\n",
            "Diagonal principal: [1 5 9]\n",
            "Diagonal principal al reves: [3 5 7]\n",
            "Suma de la matriz 45\n",
            "Media: 5.0\n",
            "Mediana: 5.0\n",
            "Desviacion estandar: 2.581988897471611\n",
            "Valor maximo: 9\n",
            "Valor minimo: 1\n",
            "Suma de fila: [ 6 15 24]\n",
            "Suma de columna: [12 15 18]\n",
            "Moda: 9\n"
          ]
        }
      ],
      "source": [
        "import numpy as np\n",
        "import statistics as stat\n",
        "\n",
        "p = \"Palabra\"\n",
        "\n",
        "arr = np.array([1,3,2,4,5,6,7,8,9,0,9,9,9])\n",
        "\n",
        "print(arr[0])\n",
        "\n",
        "print(p[2])\n",
        "\n",
        "\n",
        "arr1 = np.array([1,3,2,4,5,6,7,8,9,10])\n",
        "arr2 = np.array([11,12,13,14,15,16,17,18,19,20])\n",
        "\n",
        "print(\"Suma\", arr1 + arr2)\n",
        "print(\"Resta\", arr1 - arr2)\n",
        "print(\"Multiplicacion\", arr1 * arr2)\n",
        "print(\"Division\", arr1 / arr2)\n",
        "print(\"Media\", np.mean(arr1), np.mean(arr2))\n",
        "print(\"Mediana\", np.median(arr1), np.median(arr2))\n",
        "print(\"Desviacion estandar\", np.std(arr1), np.std(arr2))\n",
        "print(\"Moda\", stat.mode(arr))\n",
        "print(\"Moda con numpy\", np.argmax(np.bincount(arr)))\n",
        "\n",
        "matriz = np.array([[1,2,3],\n",
        "                   [4,5,6],\n",
        "                   [7,8,9]])\n",
        "\n",
        "matriz_mode = np.array([[1,9,3],\n",
        "                   [4,9,6],\n",
        "                   [7,8,9]])\n",
        "\n",
        "print(\"Matriz:\", matriz)\n",
        "print(\"Transpuesta:\", matriz.T)\n",
        "print(\"Diagonal principal:\", np.diag(matriz))\n",
        "print(\"Diagonal principal al reves:\", np.fliplr(matriz).diagonal())\n",
        "print(\"Suma de la matriz\", np.sum(matriz))\n",
        "print(\"Media:\", np.mean(matriz))\n",
        "print(\"Mediana:\", np.median(matriz))\n",
        "print(\"Desviacion estandar:\", np.std(matriz))\n",
        "print(\"Valor maximo:\", np.max(matriz))\n",
        "print(\"Valor minimo:\", np.min(matriz))\n",
        "print(\"Suma de fila:\", np.sum(matriz, axis=1))\n",
        "print(\"Suma de columna:\", np.sum(matriz, axis=0))\n",
        "matrizToArray = matriz_mode.flatten()\n",
        "value, count = np.unique(matrizToArray, return_counts=True)\n",
        "index_mode = np.argmax(count)\n",
        "mode = value[index_mode]\n",
        "print(\"Moda:\", mode)"
      ]
    }
  ]
}