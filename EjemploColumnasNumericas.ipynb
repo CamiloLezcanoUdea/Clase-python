{
  "nbformat": 4,
  "nbformat_minor": 0,
  "metadata": {
    "colab": {
      "provenance": [],
      "authorship_tag": "ABX9TyMphNtuuXzFG6zt3ZUlGP6E",
      "include_colab_link": true
    },
    "kernelspec": {
      "name": "python3",
      "display_name": "Python 3"
    },
    "language_info": {
      "name": "python"
    }
  },
  "cells": [
    {
      "cell_type": "markdown",
      "metadata": {
        "id": "view-in-github",
        "colab_type": "text"
      },
      "source": [
        "<a href=\"https://colab.research.google.com/github/CamiloLezcanoUdea/Clase-python/blob/master/EjemploColumnasNumericas.ipynb\" target=\"_parent\"><img src=\"https://colab.research.google.com/assets/colab-badge.svg\" alt=\"Open In Colab\"/></a>"
      ]
    },
    {
      "cell_type": "code",
      "execution_count": 12,
      "metadata": {
        "colab": {
          "base_uri": "https://localhost:8080/"
        },
        "id": "R_YodD4QeRV5",
        "outputId": "0b92492c-6bfd-4915-a018-91ec06258ec0"
      },
      "outputs": [
        {
          "output_type": "stream",
          "name": "stdout",
          "text": [
            "Columnas del DataFrame:\n",
            "Index(['id', 'semana', 'edad_', 'uni_med_', 'sexo_', 'nombre_barrio', 'comuna',\n",
            "       'tipo_ss_', 'cod_ase_', 'fec_con_', 'ini_sin_', 'tip_cas_', 'pac_hos_',\n",
            "       'evento', 'year_', 'nuevo_columna', 'numero_comuna'],\n",
            "      dtype='object')\n",
            "      id  semana  edad_  uni_med_ sexo_          nombre_barrio      comuna  \\\n",
            "0  86269      21     26         1     F  La Loma de Los Bernal       Belen   \n",
            "1  86270      21     57         1     M             La America  La America   \n",
            "2  86273      20     24         1     M           San Bernardo       Belen   \n",
            "3  86274      20     20         1     F          Los Alcazares  San Javier   \n",
            "4  86275      20     57         1     F             Santa Cruz  Santa Cruz   \n",
            "\n",
            "  tipo_ss_ cod_ase_    fec_con_    ini_sin_  tip_cas_  pac_hos_  \\\n",
            "0        N     \\\"\\\"  2008-05-22  2008-05-21         4         2   \n",
            "1        C   EPS006  2008-05-23  2008-05-23         3         2   \n",
            "2        C   CCF002  2008-05-11  2008-05-11         4         1   \n",
            "3        S     5000  2008-05-12  2008-05-12         4         2   \n",
            "4        C   EPS006  2008-05-16  2008-05-15         4         2   \n",
            "\n",
            "                          evento  year_  nuevo_columna  numero_comuna  \n",
            "0  INTOXICACION POR MEDICAMENTOS   2008              0            1.0  \n",
            "1  INTOXICACION POR MEDICAMENTOS   2008              1            2.0  \n",
            "2  INTOXICACION POR MEDICAMENTOS   2008              1            1.0  \n",
            "3  INTOXICACION POR MEDICAMENTOS   2008              0            3.0  \n",
            "4  INTOXICACION POR MEDICAMENTOS   2008              0            4.0  \n"
          ]
        }
      ],
      "source": [
        "import pandas as pd\n",
        "\n",
        "# Cargar el archivo CSV en un DataFrame\n",
        "ruta_csv = '/content/Intoxicacionxmedicamentos.csv'\n",
        "df = pd.read_csv(ruta_csv)\n",
        "\n",
        "# Inspeccionar las columnas del DataFrame\n",
        "print(\"Columnas del DataFrame:\")\n",
        "print(df.columns)\n",
        "\n",
        "# Agregar una nueva columna basada en los valores de la columna \"sexo\"\n",
        "# Asumiendo que la columna \"sexo\" contiene valores 'masculino' y 'femenino'\n",
        "df['nuevo_columna'] = df['sexo_'].apply(lambda x: 1 if x == 'M' else 0)\n",
        "\n",
        "# Mostrar los primeros registros del DataFrame para verificar\n",
        "#print(df.head())\n",
        "\n",
        "#def comunas(case):\n",
        "#  def case_belen():\n",
        "#    return 5\n",
        "#  def case_aranjuez():\n",
        "#    return 3\n",
        "\n",
        "#  switch = {\n",
        "#    \"Belen\": case_belen\n",
        "#  }\n",
        "\n",
        " # func = switch.get(case, lambda: \"Caso no encontrado\")\n",
        " # return func()\n",
        "\n",
        "# columna tipo de comuna}\n",
        "comuna = {\n",
        "    'Belen': 1,\n",
        "    'La America': 2,\n",
        "    'San Javier': 3,\n",
        "    'Santa Cruz': 4\n",
        "}\n",
        "\n",
        "\n",
        "df['numero_comuna'] = df['comuna'].map(comuna)\n",
        "print(df.head())\n",
        "\n",
        "# Guardar el DataFrame modificado en un nuevo archivo CSV (opcional)\n",
        "df.to_csv('/content/Intoxicacionxmedicamentos.csv', index=False)"
      ]
    },
    {
      "cell_type": "code",
      "source": [
        "A"
      ],
      "metadata": {
        "id": "tlswNT7zDPXx"
      },
      "execution_count": null,
      "outputs": []
    }
  ]
}