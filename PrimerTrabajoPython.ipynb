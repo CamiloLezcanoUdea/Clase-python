{
  "nbformat": 4,
  "nbformat_minor": 0,
  "metadata": {
    "colab": {
      "provenance": [],
      "authorship_tag": "ABX9TyPteTamFReVW4oTVotXft+8",
      "include_colab_link": true
    },
    "kernelspec": {
      "name": "python3",
      "display_name": "Python 3"
    },
    "language_info": {
      "name": "python"
    }
  },
  "cells": [
    {
      "cell_type": "markdown",
      "metadata": {
        "id": "view-in-github",
        "colab_type": "text"
      },
      "source": [
        "<a href=\"https://colab.research.google.com/github/CamiloLezcanoUdea/Clase-python/blob/master/PrimerTrabajoPython.ipynb\" target=\"_parent\"><img src=\"https://colab.research.google.com/assets/colab-badge.svg\" alt=\"Open In Colab\"/></a>"
      ]
    },
    {
      "cell_type": "code",
      "source": [
        "print(\"Hola bienvenidos al curso de introduccion a la ciencia de datos\")"
      ],
      "metadata": {
        "colab": {
          "base_uri": "https://localhost:8080/"
        },
        "id": "a36XGOFIhBiv",
        "outputId": "09e79db0-8c5e-48d2-bdc5-9728c2f97783"
      },
      "execution_count": 4,
      "outputs": [
        {
          "output_type": "stream",
          "name": "stdout",
          "text": [
            "Hola bienvenidos al curso de introduccion a la ciencia de datos\n"
          ]
        }
      ]
    },
    {
      "cell_type": "code",
      "source": [
        "mensaje = True\n",
        "print(mensaje)"
      ],
      "metadata": {
        "colab": {
          "base_uri": "https://localhost:8080/"
        },
        "id": "gXHGTWPJi6fQ",
        "outputId": "d41735c9-579b-4a82-cc8f-11fbe69015cb"
      },
      "execution_count": 9,
      "outputs": [
        {
          "output_type": "stream",
          "name": "stdout",
          "text": [
            "True\n"
          ]
        }
      ]
    },
    {
      "cell_type": "code",
      "source": [
        "edad = 15\n",
        "\n",
        "if edad >= 18 :\n",
        "  print(\"Es mayor de edad\")\n",
        "else:\n",
        "  print(\"Es menor de edad\")"
      ],
      "metadata": {
        "colab": {
          "base_uri": "https://localhost:8080/"
        },
        "id": "wnOk_VeGj7me",
        "outputId": "a4a4cb75-8d73-4dbf-9f5d-f40876311651"
      },
      "execution_count": 11,
      "outputs": [
        {
          "output_type": "stream",
          "name": "stdout",
          "text": [
            "Es menor de edad\n"
          ]
        }
      ]
    },
    {
      "cell_type": "code",
      "source": [
        "def opcion_uno():\n",
        "  print(\"Seleccion opcion 1\")\n",
        "\n",
        "def opcion_dos():\n",
        "  print(\"Seleccion opcion 2\")\n",
        "\n",
        "def opcion_tres():\n",
        "  print(\"Seleccion opcion 3\")\n",
        "\n",
        "opciones = {\n",
        "    1: opcion_uno,\n",
        "    2: opcion_dos,\n",
        "    3: opcion_tres\n",
        "}\n",
        "\n",
        "opcion = 3\n",
        "\n",
        "opciones[opcion]()"
      ],
      "metadata": {
        "colab": {
          "base_uri": "https://localhost:8080/"
        },
        "id": "JgiR7u3FljLZ",
        "outputId": "12d392fb-574b-4c6f-a829-0cfe17496a6b"
      },
      "execution_count": 22,
      "outputs": [
        {
          "output_type": "stream",
          "name": "stdout",
          "text": [
            "Seleccion opcion 3\n"
          ]
        }
      ]
    },
    {
      "cell_type": "code",
      "source": [
        "opcion = 1\n",
        "\n",
        "if opcion == 1:\n",
        "  print(\"Seleccion opcion 1\")\n",
        "if opcion == 2:\n",
        "  print(\"Seleccion opcion 2\")\n",
        "if opcion == 3:\n",
        "  print(\"Seleccion opcion 3\")"
      ],
      "metadata": {
        "colab": {
          "base_uri": "https://localhost:8080/"
        },
        "id": "JJ2IHtOSoqB2",
        "outputId": "5b29c247-c373-49fc-f5d0-613e3cf64820"
      },
      "execution_count": 23,
      "outputs": [
        {
          "output_type": "stream",
          "name": "stdout",
          "text": [
            "Seleccion opcion 1\n"
          ]
        }
      ]
    },
    {
      "cell_type": "code",
      "source": [
        "numeros = [1, 2, 3, 4, 5]\n",
        "\n",
        "palabras = [\"Hola\", \"Adios\", \"Como estas\", \"Prueba\"]\n",
        "\n",
        "lista_vacia = []\n",
        "\n",
        "print(numeros)\n",
        "print(palabras[3])\n",
        "print(lista_vacia)"
      ],
      "metadata": {
        "colab": {
          "base_uri": "https://localhost:8080/"
        },
        "id": "4otj8UKhqn3W",
        "outputId": "d53f8de5-516a-4a25-9513-69df8cf959ca"
      },
      "execution_count": 34,
      "outputs": [
        {
          "output_type": "stream",
          "name": "stdout",
          "text": [
            "[1, 2, 3, 4, 5]\n",
            "Prueba\n",
            "[]\n"
          ]
        }
      ]
    },
    {
      "cell_type": "code",
      "source": [
        "import numpy as np\n",
        "\n",
        "array_One = np.array([1, 2, 3, 4, 5, 5, 5, 5])\n",
        "\n",
        "conjunto_numeros = {5, 1, 2, 3, 5, 4, 5, 5, 5}\n",
        "\n",
        "print(array_One[0])\n",
        "print(conjunto_numeros)"
      ],
      "metadata": {
        "colab": {
          "base_uri": "https://localhost:8080/"
        },
        "id": "EufitOPbyF5D",
        "outputId": "011a5087-bc8e-407b-b36f-1f24dc0ede50"
      },
      "execution_count": 42,
      "outputs": [
        {
          "output_type": "stream",
          "name": "stdout",
          "text": [
            "1\n",
            "{1, 2, 3, 4, 5}\n"
          ]
        }
      ]
    },
    {
      "cell_type": "code",
      "source": [
        "palabra = \"12345\"\n",
        "\n",
        "for letra in palabra:\n",
        "  print(letra)"
      ],
      "metadata": {
        "colab": {
          "base_uri": "https://localhost:8080/"
        },
        "id": "8jgVxMBk0iV6",
        "outputId": "030af97e-daeb-4fb4-ab8d-797215dfcff1"
      },
      "execution_count": 47,
      "outputs": [
        {
          "output_type": "stream",
          "name": "stdout",
          "text": [
            "1\n",
            "2\n",
            "3\n",
            "4\n",
            "5\n"
          ]
        }
      ]
    },
    {
      "cell_type": "code",
      "source": [
        "prueba = \"Prueba1\"\n",
        "indice = 0\n",
        "\n",
        "while indice < 8:\n",
        "  print(prueba)\n",
        "  indice += 1\n"
      ],
      "metadata": {
        "colab": {
          "base_uri": "https://localhost:8080/"
        },
        "id": "gv1iSWhC1u7B",
        "outputId": "46763e85-c966-4226-ae83-6093981f11ea"
      },
      "execution_count": 52,
      "outputs": [
        {
          "output_type": "stream",
          "name": "stdout",
          "text": [
            "Prueba1\n",
            "Prueba1\n",
            "Prueba1\n",
            "Prueba1\n",
            "Prueba1\n",
            "Prueba1\n",
            "Prueba1\n",
            "Prueba1\n"
          ]
        }
      ]
    }
  ]
}